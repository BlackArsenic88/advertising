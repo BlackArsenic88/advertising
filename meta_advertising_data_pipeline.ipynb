{
 "cells": [
  {
   "cell_type": "code",
   "execution_count": null,
   "id": "9bc903a7",
   "metadata": {},
   "outputs": [],
   "source": [
    "# Meta advertising data \n",
    "# Anonymous organization's social media ad campaign\n",
    "# Calculates CAC \n",
    "# https://www.kaggle.com/code/chrisbow/an-introduction-to-facebook-ad-analysis-using-r\n",
    "# https://www.kaggle.com/datasets/loveall/clicks-conversion-tracking?resource=download \n",
    "\n",
    "# Features & Label\n",
    "# Gender. Male or female. \n",
    "# Interest. A code specifying the category to which the person’s interest belongs (interests are as mentioned in the person’s Facebook public profile).\n",
    "# Spent. Amount paid by company xyz to Facebook, to show that ad as CPM (cost per 1,000 impressions), CPC (cpst per click), and CPA (cost per approved conversion).\n",
    "# Impressions. The number of times the ad was shown.\n",
    "# Clicks.  Number of clicks on for that ad.\n",
    "# Total conversion. Total number of people who enquired about the product after seeing the ad.\n",
    "# Approved conversion. Total number of people who bought the product after seeing the ad.\n",
    "\n",
    "# Requirements\n",
    "import pandas as pd\n",
    "from sklearn.model_selection import train_test_split\n",
    "from sklearn.compose import ColumnTransformer\n",
    "from sklearn.preprocessing import OneHotEncoder\n",
    "from sklearn.linear_model import LinearRegression\n",
    "from sklearn.pipeline import Pipeline"
   ]
  },
  {
   "cell_type": "code",
   "execution_count": null,
   "id": "f8ecf26d",
   "metadata": {},
   "outputs": [],
   "source": [
    "df = pd.read_csv(\"sales_conversion.csv\")"
   ]
  },
  {
   "cell_type": "code",
   "execution_count": null,
   "id": "aab08305",
   "metadata": {},
   "outputs": [],
   "source": [
    "# CAC = Total Marketing & Sales Spend / Number of New Customers Acquired \n",
    "ad_spend = df['Spent'].sum()\n",
    "print(\"Ad spend:\", f\"${ad_spend:,.2f}\")\n",
    "new_customers = df['Approved_Conversion'].sum()\n",
    "print(\"New customers:\", f\"{new_customers:,}\")\n",
    "cac = ad_spend / new_customers \n",
    "print(\"Customer acquisition costs (CAC):\", f\"${cac:,.2f}\")\n"
   ]
  },
  {
   "cell_type": "code",
   "execution_count": null,
   "id": "2b19ff97",
   "metadata": {},
   "outputs": [],
   "source": [
    "# CPL = Total Marketing & Sales Spend / New Leads\n",
    "# LCR = New Customers / Total Leads \n",
    "leads = df['Total_Conversion'].sum()\n",
    "print(\"Leads:\", f\"{leads:,}\")\n",
    "cpl = ad_spend / leads\n",
    "print(\"Cost per lead (CPL):\", f\"${cpl:,.2f}\")\n",
    "lcr = (new_customers / leads) * 100\n",
    "print(\"Lead conversion rate:\", f\"{lcr:,.2f}%\")"
   ]
  },
  {
   "cell_type": "code",
   "execution_count": null,
   "id": "8192d318",
   "metadata": {},
   "outputs": [],
   "source": [
    "# CPM = cost per 1,000 ad impressions\n",
    "cpm = df[(df['Spent'] < 10) & (df['Spent'] > 0)]\n",
    "cpm = (cpm['Spent'] / cpm['Impressions']) * 1000\n",
    "print(\"Average cost per 1,000 impressions (CPM):\", f\"${cpm.mean():.2f}\")"
   ]
  },
  {
   "cell_type": "code",
   "execution_count": null,
   "id": "3d3449fa",
   "metadata": {},
   "outputs": [],
   "source": [
    "#CTR (%) = clicks / impressions x 100 \n",
    "'''\n",
    "Meta ad CTRs range from 0.5% to 2%. \n",
    "A low CTR suggests: \n",
    "- The ads were note engaging (low-quality creative).\n",
    "- Targeting was too broad or mismatched.\n",
    "- Dataset might be synthetic or incorrect.\n",
    "'''\n",
    "clicks = df['Clicks'].sum()\n",
    "print(\"Clicks:\", f\"{clicks:,}\")\n",
    "impressions = df['Impressions'].sum()\n",
    "print(\"Impressions:\", f\"{impressions:,}\")\n",
    "ctr = (clicks / impressions ) * 100\n",
    "print(\"Click through rate (CTR):\", f\"{ctr:,.3f}%\")"
   ]
  },
  {
   "cell_type": "code",
   "execution_count": null,
   "id": "dce17916",
   "metadata": {},
   "outputs": [],
   "source": [
    "print(df.columns)"
   ]
  },
  {
   "cell_type": "code",
   "execution_count": null,
   "id": "25de732d",
   "metadata": {},
   "outputs": [],
   "source": [
    "X = df.drop(columns = ['ad_id', 'xyz_campaign_id', 'fb_campaign_id', 'age', 'Approved_Conversion'])\n",
    "y = df['Approved_Conversion']"
   ]
  },
  {
   "cell_type": "code",
   "execution_count": null,
   "id": "ae55b2c7",
   "metadata": {},
   "outputs": [],
   "source": [
    "categorical = ['gender']\n",
    "numeric = ['interest', 'Spent', 'Impressions', 'Clicks', 'Total_Conversion']"
   ]
  },
  {
   "cell_type": "code",
   "execution_count": null,
   "id": "270701a8",
   "metadata": {},
   "outputs": [],
   "source": [
    "# Preprocessing: OHE for categorical, passthrough for numeric\n",
    "preprocessor = ColumnTransformer(\n",
    "    transformers=[\n",
    "        ('cat', OneHotEncoder(handle_unknown='ignore'), categorical),\n",
    "        ('num', 'passthrough', numeric)\n",
    "    ]\n",
    ")"
   ]
  },
  {
   "cell_type": "code",
   "execution_count": null,
   "id": "8054d049",
   "metadata": {},
   "outputs": [],
   "source": [
    "# Data pipeline\n",
    "mlr = Pipeline(steps=[\n",
    "    ('preprocessor', preprocessor),\n",
    "    ('regressor', LinearRegression())\n",
    "])"
   ]
  },
  {
   "cell_type": "code",
   "execution_count": null,
   "id": "2dd16d78",
   "metadata": {},
   "outputs": [],
   "source": [
    "# Train/test split\n",
    "X_train, X_test, y_train, y_test = train_test_split(X, y, test_size=0.2, random_state=32)"
   ]
  },
  {
   "cell_type": "code",
   "execution_count": null,
   "id": "d1702720",
   "metadata": {},
   "outputs": [],
   "source": [
    "# Fit\n",
    "mlr.fit(X_train, y_train)"
   ]
  },
  {
   "cell_type": "code",
   "execution_count": null,
   "id": "1f915fe8",
   "metadata": {},
   "outputs": [],
   "source": [
    "print(\"Training accuracy (R²): \", f\"{mlr.score(X_train, y_train)*100:,.2f}%\")\n",
    "print(\"Test accuracy (R²): \", f\"{mlr.score(X_test, y_test)*100:,.2f}%\")"
   ]
  },
  {
   "cell_type": "code",
   "execution_count": null,
   "id": "818d4710",
   "metadata": {},
   "outputs": [],
   "source": [
    "# Coefficients\n",
    "print(mlr.named_steps['regressor'].coef_)"
   ]
  },
  {
   "cell_type": "code",
   "execution_count": null,
   "id": "a13f7f5a",
   "metadata": {},
   "outputs": [],
   "source": [
    "# CAC\n",
    "conversion = pd.DataFrame([{\n",
    "    'gender': \"M\",\n",
    "    'interest': 16,\n",
    "    'Spent': 150,\n",
    "    'Impressions': 1000000,\n",
    "    'Clicks': 95,\n",
    "    'Total_Conversion': 26\n",
    "}])\n",
    "\n",
    "prediction = mlr.predict(conversion)[0]\n",
    "print(\"Predicted new customers:\", prediction)"
   ]
  },
  {
   "cell_type": "code",
   "execution_count": null,
   "id": "9160d922",
   "metadata": {},
   "outputs": [],
   "source": [
    "# Next steps: \n",
    "# Optimze with Lasso, Ridge, SGD Regressor or another ML model"
   ]
  }
 ],
 "metadata": {
  "kernelspec": {
   "display_name": "Python 3",
   "language": "python",
   "name": "python3"
  },
  "language_info": {
   "codemirror_mode": {
    "name": "ipython",
    "version": 3
   },
   "file_extension": ".py",
   "mimetype": "text/x-python",
   "name": "python",
   "nbconvert_exporter": "python",
   "pygments_lexer": "ipython3",
   "version": "3.13.5"
  }
 },
 "nbformat": 4,
 "nbformat_minor": 5
}
